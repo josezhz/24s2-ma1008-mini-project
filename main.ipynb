{
 "cells": [
  {
   "cell_type": "code",
   "execution_count": 141,
   "metadata": {},
   "outputs": [],
   "source": [
    "stn_pairs = []\n",
    "avg_speeds = {\n",
    "    \"North-South\": 41,\n",
    "    \"East-West\": 43,\n",
    "    \"Circle\": 36,\n",
    "    \"Thomson-East Coast\": 40,\n",
    "    \"North East\": 34,\n",
    "    \"Downtown\": 38,\n",
    "}\n",
    "stn_neighbors = {}"
   ]
  },
  {
   "cell_type": "code",
   "execution_count": 142,
   "metadata": {},
   "outputs": [],
   "source": [
    "def load_data():\n",
    "    file_path = \"MRT.txt\"\n",
    "    file = open(file_path, \"r\")\n",
    "    lines = [line.strip() for line in file.readlines() if line.strip()]\n",
    "    data_lines = lines[2:]\n",
    "    file.close()\n",
    "\n",
    "    for data_line in data_lines:\n",
    "        data_list = data_line.split(\";\")\n",
    "        stn_pair = {}\n",
    "        stn_pair[\"from_stn\"], stn_pair[\"to_stn\"] = [\n",
    "            i.split(\" \", 1)[1] for i in data_list[1].split(\" <-> \")\n",
    "        ]\n",
    "        stn_pair[\"line\"] = data_list[2]\n",
    "        stn_pair[\"distance\"] = float(data_list[3])\n",
    "        stn_pair[\"duration\"] = stn_pair[\"distance\"] / avg_speeds[stn_pair[\"line\"]]\n",
    "        (\n",
    "            stn_pair[\"first\"],\n",
    "            stn_pair[\"last\"],\n",
    "            stn_pair[\"first_opp\"],\n",
    "            stn_pair[\"last_opp\"],\n",
    "        ) = data_list[4:8]\n",
    "        stn_pairs.append(stn_pair)\n",
    "\n",
    "        for stn_pair in stn_pairs:\n",
    "            from_stn, to_stn, distance, duration, line = (\n",
    "                stn_pair[\"from_stn\"],\n",
    "                stn_pair[\"to_stn\"],\n",
    "                stn_pair[\"distance\"],\n",
    "                stn_pair[\"duration\"],\n",
    "                stn_pair[\"line\"],\n",
    "            )\n",
    "            for start, end in (from_stn, to_stn), (to_stn, from_stn):\n",
    "                stn_neighbors.setdefault(start, {})\n",
    "                if (\n",
    "                    end not in stn_neighbors[start]\n",
    "                    or duration < stn_neighbors[start][end][\"duration\"]\n",
    "                ):\n",
    "                    stn_neighbors[start][end] = {\n",
    "                        \"distance\": distance,\n",
    "                        \"duration\": duration,\n",
    "                        \"line\": line,\n",
    "                    }"
   ]
  },
  {
   "cell_type": "code",
   "execution_count": 143,
   "metadata": {},
   "outputs": [],
   "source": [
    "load_data()"
   ]
  },
  {
   "cell_type": "code",
   "execution_count": 144,
   "metadata": {},
   "outputs": [
    {
     "name": "stdout",
     "output_type": "stream",
     "text": [
      "['Pioneer', 'Boon Lay', 'Lakeside', 'Chinese Garden', 'Jurong East', 'Clementi', 'Dover', 'Buona Vista', 'Holland Village', 'Farrer Road', 'Botanic Gardens', 'Stevens', 'Newton', 'Little India', 'Rochor', 'Bugis', 'Lavender', 'Kallang', 'Aljunied', 'Paya Lebar', 'Eunos', 'Kembangan', 'Bedok', 'Tanah Merah', 'Expo', 'Changi Airport']\n"
     ]
    }
   ],
   "source": [
    "def bellman_ford(graph, start, end):\n",
    "    distances = {station: float(\"inf\") for station in graph}\n",
    "    predecessors = {station: None for station in graph}\n",
    "    distances[start] = 0\n",
    "\n",
    "    for _ in range(len(graph) - 1):  # Relax edges |V|-1 times\n",
    "        for u in graph:\n",
    "            for v in graph[u]:\n",
    "                weight = graph[u][v][\"duration\"]\n",
    "                if distances[u] + weight < distances[v]:\n",
    "                    distances[v] = distances[u] + weight\n",
    "                    predecessors[v] = u\n",
    "\n",
    "    # Reconstruct path\n",
    "    path = []\n",
    "    current = end\n",
    "    while current is not None:\n",
    "        path.append(current)\n",
    "        current = predecessors[current]\n",
    "    return path[::-1] if path[-1] == start else None  # Reverse path\n",
    "\n",
    "print(bellman_ford(stn_neighbors, \"Pioneer\", \"Changi Airport\"))  # Output: Shortest path based on duration"
   ]
  }
 ],
 "metadata": {
  "kernelspec": {
   "display_name": "base",
   "language": "python",
   "name": "python3"
  },
  "language_info": {
   "codemirror_mode": {
    "name": "ipython",
    "version": 3
   },
   "file_extension": ".py",
   "mimetype": "text/x-python",
   "name": "python",
   "nbconvert_exporter": "python",
   "pygments_lexer": "ipython3",
   "version": "3.12.4"
  }
 },
 "nbformat": 4,
 "nbformat_minor": 2
}
